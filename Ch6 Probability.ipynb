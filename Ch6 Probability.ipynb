{
 "cells": [
  {
   "cell_type": "markdown",
   "metadata": {},
   "source": [
    "#Probability"
   ]
  },
  {
   "cell_type": "markdown",
   "metadata": {},
   "source": [
    "P(E) =  The probability of event E"
   ]
  },
  {
   "cell_type": "markdown",
   "metadata": {},
   "source": [
    "* E and F are *dependent* if knowing something about whether E happens gives us information about whether F happens. Otherwise they are *independent*\n"
   ]
  },
  {
   "cell_type": "markdown",
   "metadata": {},
   "source": [
    "* Mathematically, we say that two events E and F are independent if the probability that they both happen is the product of the probabilities that each one happens:\n",
    "\n",
    "    * P(E, F) =  P(E) * P(F)"
   ]
  },
  {
   "cell_type": "markdown",
   "metadata": {},
   "source": [
    "###Conditional Probability"
   ]
  },
  {
   "cell_type": "markdown",
   "metadata": {},
   "source": [
    "* If two events E and F are independent, then by definition we have:\n",
    "\n",
    "    * P(E,F) = P(E) * P(F)"
   ]
  },
  {
   "cell_type": "markdown",
   "metadata": {},
   "source": [
    "* If they are not necessarily independent (and if the probability of F is not zero), then we define the probability of E \"conditional on F\" as:\n",
    "    * P(E|F) = P(E, F)/P(F) "
   ]
  },
  {
   "cell_type": "markdown",
   "metadata": {},
   "source": [
    "* You should think of this as the probability that E happens, given that we know that F happens, we often rewrite as:\n",
    "    * P(E, F) = P(E|F) * P(F)"
   ]
  },
  {
   "cell_type": "markdown",
   "metadata": {
    "collapsed": true
   },
   "source": [
    "* When E and F are independent, you can check that this gives:\n",
    "    * P(E|F) = P(E)\n",
    "    * Which is the mathematical way of expressing that knowing F occurred gives us no additinal information about whether E occurred"
   ]
  },
  {
   "cell_type": "markdown",
   "metadata": {},
   "source": [
    "* Here is a common example\n",
    "    * A family with two unkown children\n",
    "        * Each child is equally likely to be a boy or girl\n",
    "        * The gender of the second child is independent of the gender of the first child"
   ]
  },
  {
   "cell_type": "markdown",
   "metadata": {},
   "source": [
    "* Now we can begin to ask what is the probability of an event\n",
    "    * Both children are girls (B) 1/4\n",
    "    * The older child is a girl (G) 1/2\n",
    "    * Using the definition of conditional probability:\n",
    "        * P(B|G) = P(B,G)/P(G) = P(B)/P(G) = 1/4 / 1/2 = 1/2\n",
    "        * P(B,G) is just P(B) intuitively"
   ]
  },
  {
   "cell_type": "markdown",
   "metadata": {},
   "source": [
    "* Lets do another\n",
    "    * Both children are girls (B) 1/4\n",
    "    * At least one of the children is a girl (L) 3/4 -- P(at least one) = 1 - P(not at all)\n",
    "        * P(B|L) = P(B,L)/P(L) = P(B)/P(L) =  1/4 / 3/4 = 1/3"
   ]
  },
  {
   "cell_type": "markdown",
   "metadata": {},
   "source": [
    "* We can check this by \"generating\" a lot of families"
   ]
  },
  {
   "cell_type": "code",
   "execution_count": 3,
   "metadata": {
    "collapsed": true
   },
   "outputs": [],
   "source": [
    "import random"
   ]
  },
  {
   "cell_type": "code",
   "execution_count": 4,
   "metadata": {
    "collapsed": false
   },
   "outputs": [
    {
     "name": "stdout",
     "output_type": "stream",
     "text": [
      "P(both | older):  0.5007089325501317\n",
      "P(both | either):  0.3311897106109325\n"
     ]
    }
   ],
   "source": [
    "def random_kid():\n",
    "    return random.choice(['boy', 'girl'])\n",
    "\n",
    "both_girls = 0\n",
    "older_girl = 0\n",
    "either_girl = 0\n",
    "\n",
    "random.seed(0)\n",
    "for _ in range(10000):\n",
    "    younger = random_kid()\n",
    "    older = random_kid()\n",
    "    if older == 'girl':\n",
    "        older_girl += 1\n",
    "    if older == 'girl' and younger == 'girl':\n",
    "        both_girls += 1\n",
    "    if older == 'girl' or younger == 'girl':\n",
    "        either_girl += 1\n",
    "\n",
    "print(\"P(both | older): \", both_girls / older_girl)\n",
    "print(\"P(both | either): \", both_girls / either_girl)"
   ]
  },
  {
   "cell_type": "markdown",
   "metadata": {},
   "source": [
    "* P(both | older):  0.5007089325501317 = 1/2\n",
    "* P(both | either):  0.3311897106109325 = 1/3\n",
    "\n",
    "* This proves the theory"
   ]
  },
  {
   "cell_type": "markdown",
   "metadata": {},
   "source": [
    "###Bayes's Theorem"
   ]
  },
  {
   "cell_type": "code",
   "execution_count": null,
   "metadata": {
    "collapsed": true
   },
   "outputs": [],
   "source": []
  }
 ],
 "metadata": {
  "kernelspec": {
   "display_name": "Python 3",
   "language": "python",
   "name": "python3"
  },
  "language_info": {
   "codemirror_mode": {
    "name": "ipython",
    "version": 3
   },
   "file_extension": ".py",
   "mimetype": "text/x-python",
   "name": "python",
   "nbconvert_exporter": "python",
   "pygments_lexer": "ipython3",
   "version": "3.4.3"
  }
 },
 "nbformat": 4,
 "nbformat_minor": 0
}
