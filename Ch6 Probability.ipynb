{
 "cells": [
  {
   "cell_type": "markdown",
   "metadata": {},
   "source": [
    "#Probability"
   ]
  },
  {
   "cell_type": "markdown",
   "metadata": {},
   "source": [
    "P(E) =  The probability of event E"
   ]
  },
  {
   "cell_type": "markdown",
   "metadata": {},
   "source": [
    "* E and F are *dependent* if knowing something about whether E happens gives us information about whether F happens. Otherwise they are *independent*\n"
   ]
  },
  {
   "cell_type": "markdown",
   "metadata": {},
   "source": [
    "* Mathematically, we say that two events E and F are independent if the probability that they both happen is the product of the probabilities that each one happens:\n",
    "\n",
    "    * P(E, F) =  P(E) • P(F)"
   ]
  },
  {
   "cell_type": "markdown",
   "metadata": {},
   "source": [
    "###Conditional Probability"
   ]
  },
  {
   "cell_type": "markdown",
   "metadata": {},
   "source": [
    "* If two events E and F are independent, then by definition we have:\n",
    "\n",
    "    * P(E,F) = P(E) • P(F)"
   ]
  },
  {
   "cell_type": "markdown",
   "metadata": {},
   "source": [
    "* If they are not necessarily independent (and if the probability of F is not zero), then we define the probability of E \"conditional on F\" as:\n",
    "    * P(E|F) = P(E, F)/P(F) "
   ]
  },
  {
   "cell_type": "markdown",
   "metadata": {},
   "source": [
    "* You should think of this as the probability that E happens, given that we know that F happens, we often rewrite as:\n",
    "    * P(E, F) = P(E|F) • P(F)"
   ]
  },
  {
   "cell_type": "markdown",
   "metadata": {
    "collapsed": true
   },
   "source": [
    "* When E and F are independent, you can check that this gives:\n",
    "    * P(E|F) = P(E)\n",
    "    * Which is the mathematical way of expressing that knowing F occurred gives us no additinal information about whether E occurred"
   ]
  },
  {
   "cell_type": "markdown",
   "metadata": {},
   "source": [
    "* Here is a common example\n",
    "    * A family with two unkown children\n",
    "        * Each child is equally likely to be a boy or girl\n",
    "        * The gender of the second child is independent of the gender of the first child"
   ]
  },
  {
   "cell_type": "markdown",
   "metadata": {},
   "source": [
    "* Now we can begin to ask what is the probability of an event\n",
    "    * Both children are girls (B) 1/4\n",
    "    * The older child is a girl (G) 1/2\n",
    "    * Using the definition of conditional probability:\n",
    "        * P(B|G) = P(B,G)/P(G) = P(B)/P(G) = 1/4 / 1/2 = 1/2\n",
    "        * P(B,G) is just P(B) intuitively"
   ]
  },
  {
   "cell_type": "markdown",
   "metadata": {},
   "source": [
    "* Lets do another\n",
    "    * Both children are girls (B) 1/4\n",
    "    * At least one of the children is a girl (L) 3/4 -- P(at least one) = 1 - P(not at all)\n",
    "        * P(B|L) = P(B,L)/P(L) = P(B)/P(L) =  1/4 / 3/4 = 1/3"
   ]
  },
  {
   "cell_type": "markdown",
   "metadata": {},
   "source": [
    "* This result almost seems odd, but we can check it by \"generating\" a lot of families"
   ]
  },
  {
   "cell_type": "code",
   "execution_count": 3,
   "metadata": {
    "collapsed": true
   },
   "outputs": [],
   "source": [
    "import random"
   ]
  },
  {
   "cell_type": "code",
   "execution_count": 4,
   "metadata": {
    "collapsed": false
   },
   "outputs": [
    {
     "name": "stdout",
     "output_type": "stream",
     "text": [
      "P(both | older):  0.5007089325501317\n",
      "P(both | either):  0.3311897106109325\n"
     ]
    }
   ],
   "source": [
    "def random_kid():\n",
    "    return random.choice(['boy', 'girl'])\n",
    "\n",
    "both_girls = 0\n",
    "older_girl = 0\n",
    "either_girl = 0\n",
    "\n",
    "random.seed(0)\n",
    "for _ in range(10000):\n",
    "    younger = random_kid()\n",
    "    older = random_kid()\n",
    "    if older == 'girl':\n",
    "        older_girl += 1\n",
    "    if older == 'girl' and younger == 'girl':\n",
    "        both_girls += 1\n",
    "    if older == 'girl' or younger == 'girl':\n",
    "        either_girl += 1\n",
    "\n",
    "print(\"P(both | older): \", both_girls / older_girl)\n",
    "print(\"P(both | either): \", both_girls / either_girl)"
   ]
  },
  {
   "cell_type": "markdown",
   "metadata": {},
   "source": [
    "* P(both | older):  0.5007089325501317 = 1/2\n",
    "* P(both | either):  0.3311897106109325 = 1/3\n",
    "\n",
    "* This proves the theory"
   ]
  },
  {
   "cell_type": "markdown",
   "metadata": {},
   "source": [
    "###Bayes's Theorem"
   ]
  },
  {
   "cell_type": "markdown",
   "metadata": {},
   "source": [
    "Beyes is a way of \"reversing\" conditional probabilities"
   ]
  },
  {
   "cell_type": "markdown",
   "metadata": {},
   "source": [
    "* Let's say we need to know the probability of some event E, conditional on some other event F occurring. But we only have information about the probability of F conditional on E occuring."
   ]
  },
  {
   "cell_type": "markdown",
   "metadata": {},
   "source": [
    "* Using the definition of conditional probability twice tells us:\n",
    "    * P(E|F) = P(E,F) / P(F) = (P(F|E) • P(E)) / P(F)"
   ]
  },
  {
   "cell_type": "markdown",
   "metadata": {},
   "source": [
    "* The event F can be split into the two mutually exclusive events \"F and E\" and \"F and not E\". If we write ¬E as \"Not E\" then:\n",
    "    * P(F) = P(F,E) + P(F, ¬E)\n",
    "    * So that:\n",
    "        * P(E|F) = [P(F|E) • P(E)] / [(P(F|E) • P(E)) + P(F | ¬E) • P(¬E)] "
   ]
  },
  {
   "cell_type": "markdown",
   "metadata": {},
   "source": [
    "* Will be going through \"Think Bayes\" book for more in depth look here"
   ]
  },
  {
   "cell_type": "markdown",
   "metadata": {},
   "source": [
    "###Random Variables"
   ]
  },
  {
   "cell_type": "markdown",
   "metadata": {},
   "source": [
    "A **random variable** is a variable whose possible values have an associated probability distribution"
   ]
  },
  {
   "cell_type": "markdown",
   "metadata": {},
   "source": [
    "* A simple example is a coin flip\n",
    "    * The random variable equals one if a coin flip turns up heads and 0 if athe flip turns up tails"
   ]
  },
  {
   "cell_type": "markdown",
   "metadata": {},
   "source": [
    "* A more complex one could measure the number of heads observed when flipping a coin 10 times, where each number is equally likely"
   ]
  },
  {
   "cell_type": "markdown",
   "metadata": {},
   "source": [
    "* The associated distribution gives the probabilities that the variable realizes each of its possible values. A random variable of range(10) where each number is euqally likely, has a distribution that assigns probability 0.1 to each of the numbers from 0 to 9"
   ]
  },
  {
   "cell_type": "markdown",
   "metadata": {},
   "source": [
    "The **expected value** is the average of a random variable's values wieghted by their probabilities"
   ]
  },
  {
   "cell_type": "markdown",
   "metadata": {},
   "source": [
    "* The coin flip variable has an expected value of 1/2 (= 0 • 1/2 + 1 • 1/2)"
   ]
  },
  {
   "cell_type": "markdown",
   "metadata": {},
   "source": [
    "* The range(10) variable has an expected value of 4.5 (= 0 • .1 + 1 • .1 ...etc)"
   ]
  },
  {
   "cell_type": "markdown",
   "metadata": {},
   "source": [
    "Random variables can be *conditioned* on events just like other events."
   ]
  },
  {
   "cell_type": "markdown",
   "metadata": {},
   "source": [
    "* Going back to the two child example\n",
    "    * if X is a random variable representing the number of girls, X equals 0 with a probability of 1/4, 1 with a probability of 1/2 and 2 with a probabiltiy of 1/4"
   ]
  },
  {
   "cell_type": "markdown",
   "metadata": {},
   "source": [
    "* It is a way of mapping random processes to events"
   ]
  },
  {
   "cell_type": "markdown",
   "metadata": {},
   "source": [
    "###Continuous Distributions"
   ]
  },
  {
   "cell_type": "markdown",
   "metadata": {},
   "source": [
    "A coin flip represents a *discrete* distribution, but what if we need a continuous one?"
   ]
  },
  {
   "cell_type": "markdown",
   "metadata": {},
   "source": [
    "* The **uniform distribution** puts equal weight on all the numbers between 0 and 1\n",
    "    * Because there are infinitely many numbers between 0 and 1, the weight it assigns to individual points must be zero\n",
    "    * For this reason we represent a continuous distribution with a probability density function(pdf)\n",
    "        * A pdf is the probability of seeing a value in a certain interval equals the integral of the density function over that interval"
   ]
  },
  {
   "cell_type": "markdown",
   "metadata": {},
   "source": [
    "* The density function of the uniform distribution is just:"
   ]
  },
  {
   "cell_type": "code",
   "execution_count": 5,
   "metadata": {
    "collapsed": true
   },
   "outputs": [],
   "source": [
    "def uniform_pdf(x):\n",
    "    return 1 if x >= 0 and x < 1 else 0"
   ]
  },
  {
   "cell_type": "markdown",
   "metadata": {},
   "source": [
    "* The probability that a random variable is between .3 and .4 is 1/10 --makes sense"
   ]
  },
  {
   "cell_type": "markdown",
   "metadata": {},
   "source": [
    "* More often used is the **cumulative distribution function**, which give the probability that a random variable is less than or equal to a certain value."
   ]
  },
  {
   "cell_type": "markdown",
   "metadata": {},
   "source": [
    "* It's really easy to create the cummulative distribution function from the uniform distribution"
   ]
  },
  {
   "cell_type": "code",
   "execution_count": 8,
   "metadata": {
    "collapsed": true
   },
   "outputs": [],
   "source": [
    "def uniform_cdf(x):\n",
    "    \"returns the probability that a uniform random variable is less than x\"\n",
    "    if x < 0: return 0 #uniform random is always between 0 and 1\n",
    "    if x < 1: return x # e.g. p(X <= .4) = .4\n",
    "    else: return 1"
   ]
  },
  {
   "cell_type": "code",
   "execution_count": 9,
   "metadata": {
    "collapsed": false
   },
   "outputs": [
    {
     "data": {
      "text/plain": [
       "0.4"
      ]
     },
     "execution_count": 9,
     "metadata": {},
     "output_type": "execute_result"
    }
   ],
   "source": [
    "uniform_cdf(.4)"
   ]
  },
  {
   "cell_type": "markdown",
   "metadata": {},
   "source": [
    "###The Normal Distribution"
   ]
  },
  {
   "cell_type": "code",
   "execution_count": null,
   "metadata": {
    "collapsed": true
   },
   "outputs": [],
   "source": []
  }
 ],
 "metadata": {
  "kernelspec": {
   "display_name": "Python 3",
   "language": "python",
   "name": "python3"
  },
  "language_info": {
   "codemirror_mode": {
    "name": "ipython",
    "version": 3
   },
   "file_extension": ".py",
   "mimetype": "text/x-python",
   "name": "python",
   "nbconvert_exporter": "python",
   "pygments_lexer": "ipython3",
   "version": "3.4.3"
  }
 },
 "nbformat": 4,
 "nbformat_minor": 0
}
